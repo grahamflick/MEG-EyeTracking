{
 "cells": [
  {
   "cell_type": "code",
   "execution_count": 2,
   "id": "4e26259a",
   "metadata": {},
   "outputs": [],
   "source": [
    "import pandas as pd\n",
    "import numpy as np\n",
    "from PIL import Image\n",
    "from PIL import ImageDraw\n",
    "from PIL import ImageFont\n",
    "import json\n",
    "import os\n",
    "import os.path as op\n",
    "import mne"
   ]
  },
  {
   "cell_type": "markdown",
   "id": "0093c24e",
   "metadata": {},
   "source": [
    "# Process the Eyelink .asc file after"
   ]
  },
  {
   "cell_type": "markdown",
   "id": "ca0671f4",
   "metadata": {},
   "source": [
    "After running the edf2asc command line function shipped with the Eyelink developers kit."
   ]
  },
  {
   "cell_type": "code",
   "execution_count": 3,
   "id": "e1b502dd",
   "metadata": {},
   "outputs": [],
   "source": [
    "subject = 'R1167'\n",
    "hh = 1 # block number\n",
    "asc_path = '/Volumes/Server/NEUROLING/Projects/NaturalReading/data/meg/%s/ET/%s_%s.asc' %(subject,subject,hh)\n",
    "\n",
    "# ignore the response screens for now\n",
    "relevant_trigs = [1,2,3]"
   ]
  },
  {
   "cell_type": "markdown",
   "id": "6f668e69",
   "metadata": {},
   "source": [
    "## Read in the .asc file and get each different type of event"
   ]
  },
  {
   "cell_type": "code",
   "execution_count": 4,
   "id": "f76e10d9",
   "metadata": {},
   "outputs": [],
   "source": [
    "f = open(asc_path,'r')\n",
    "lines = f.readlines()\n",
    "\n",
    "fixations = [i for i in lines if i.startswith('EFIX')]\n",
    "saccades = [i for i in lines if i.startswith('ESACC')]\n",
    "# since recording only around trials, there are very few blinks comarped to\n",
    "# saccades and fixations\n",
    "blinks = [i for i in lines if i.startswith('EBLINK')]\n",
    "# get the triggers\n",
    "triggers = [i for i in lines if 'MEG Trigger' in i]\n",
    "# get the stim for each trial\n",
    "stim_tmp = [i for i in lines if 'IMGLOAD CENTER' in i]\n",
    "# each image name is the last piece of the stim messages:\n",
    "# split by slash then by space to get it\n",
    "stim = [str.split(str.split(ii,'/')[-1],' ')[0] for ii in stim_tmp]\n"
   ]
  },
  {
   "cell_type": "markdown",
   "id": "103da538",
   "metadata": {},
   "source": [
    "## Let's look at some of these:"
   ]
  },
  {
   "cell_type": "code",
   "execution_count": 5,
   "id": "9a592740",
   "metadata": {},
   "outputs": [
    {
     "data": {
      "text/plain": [
       "['EFIX L   681389\\t681402\\t14\\t  470.4\\t  308.8\\t   1087\\n',\n",
       " 'EFIX L   681409\\t681538\\t130\\t  466.2\\t  323.8\\t   1076\\n',\n",
       " 'EFIX L   681607\\t681782\\t176\\t   62.2\\t  309.5\\t   1015\\n',\n",
       " 'EFIX L   681818\\t683341\\t1524\\t  143.7\\t  321.0\\t   1026\\n',\n",
       " 'EFIX L   683365\\t683532\\t168\\t  197.9\\t  321.4\\t   1049\\n']"
      ]
     },
     "execution_count": 5,
     "metadata": {},
     "output_type": "execute_result"
    }
   ],
   "source": [
    "fixations[:5]\n",
    "# End Fix Code, Eye, tStart, tEnd, duration, avgx, avgy, avg pupil size"
   ]
  },
  {
   "cell_type": "markdown",
   "id": "36d4de4d",
   "metadata": {},
   "source": [
    "## Process the triggers"
   ]
  },
  {
   "cell_type": "code",
   "execution_count": 6,
   "id": "2f74839e",
   "metadata": {},
   "outputs": [
    {
     "data": {
      "text/plain": [
       "['MSG\\t683051 MEG Trigger: 1\\n',\n",
       " 'MSG\\t687605 MEG Trigger: 2\\n',\n",
       " 'MSG\\t694234 MEG Trigger: 1\\n',\n",
       " 'MSG\\t699284 MEG Trigger: 2\\n',\n",
       " 'MSG\\t705100 MEG Trigger: 1\\n']"
      ]
     },
     "execution_count": 6,
     "metadata": {},
     "output_type": "execute_result"
    }
   ],
   "source": [
    "triggers[:5]"
   ]
  },
  {
   "cell_type": "code",
   "execution_count": 7,
   "id": "ec4e8710",
   "metadata": {},
   "outputs": [],
   "source": [
    "# process the triggers\n",
    "trigtime, code = [],[]\n",
    "for event in triggers:\n",
    "    itmp = int(str.split(event.replace('\\t', ' '),' ')[-1][0])\n",
    "    if itmp in relevant_trigs:\n",
    "        trigtime.append(int(str.split(event.replace('\\t', ' '),' ')[1]))\n",
    "        code.append(int(str.split(event.replace('\\t', ' '),' ')[-1][0]))\n"
   ]
  },
  {
   "cell_type": "code",
   "execution_count": 8,
   "id": "da64d3cc",
   "metadata": {},
   "outputs": [
    {
     "data": {
      "text/plain": [
       "[683051, 687605, 694234, 699284, 705100]"
      ]
     },
     "execution_count": 8,
     "metadata": {},
     "output_type": "execute_result"
    }
   ],
   "source": [
    "trigtime[:5]"
   ]
  },
  {
   "cell_type": "code",
   "execution_count": 9,
   "id": "5186adb9",
   "metadata": {},
   "outputs": [
    {
     "data": {
      "text/plain": [
       "[1, 2, 1, 2, 1]"
      ]
     },
     "execution_count": 9,
     "metadata": {},
     "output_type": "execute_result"
    }
   ],
   "source": [
    "code[:5]"
   ]
  },
  {
   "cell_type": "markdown",
   "id": "4d44982b",
   "metadata": {},
   "source": [
    "## Process the fixations"
   ]
  },
  {
   "cell_type": "code",
   "execution_count": 10,
   "id": "3f017eeb",
   "metadata": {},
   "outputs": [],
   "source": [
    "# fix_start, fix_end, fix_dur, fx, fy, ps = [], [], [], [], [], []\n",
    "fixdata = np.zeros((len(fixations),6))\n",
    "for ii in range(len(fixations)):\n",
    "    row = fixations[ii]\n",
    "    # get rid of tabs\n",
    "    row = row.replace('\\t', ' ')\n",
    "    # check to make sure dimension are stable\n",
    "    row_split = str.split(row, ' ')\n",
    "    row = [i for i in row_split if i != '']\n",
    "    assert len(row) == 8\n",
    "    row = row[2:]\n",
    "    row[-1] = row[-1][:-1] # gets rid of new line marker\n",
    "    # convert to floats\n",
    "    for kk in range(len(row)):\n",
    "        row[kk] = float(row[kk])\n",
    "    fixdata[ii,:] = row"
   ]
  },
  {
   "cell_type": "code",
   "execution_count": 11,
   "id": "5bbfe686",
   "metadata": {},
   "outputs": [
    {
     "data": {
      "text/plain": [
       "array([[6.81389e+05, 6.81402e+05, 1.40000e+01, 4.70400e+02, 3.08800e+02,\n",
       "        1.08700e+03],\n",
       "       [6.81409e+05, 6.81538e+05, 1.30000e+02, 4.66200e+02, 3.23800e+02,\n",
       "        1.07600e+03],\n",
       "       [6.81607e+05, 6.81782e+05, 1.76000e+02, 6.22000e+01, 3.09500e+02,\n",
       "        1.01500e+03],\n",
       "       [6.81818e+05, 6.83341e+05, 1.52400e+03, 1.43700e+02, 3.21000e+02,\n",
       "        1.02600e+03],\n",
       "       [6.83365e+05, 6.83532e+05, 1.68000e+02, 1.97900e+02, 3.21400e+02,\n",
       "        1.04900e+03]])"
      ]
     },
     "execution_count": 11,
     "metadata": {},
     "output_type": "execute_result"
    }
   ],
   "source": [
    "fixdata[:5,:] # now in floats"
   ]
  },
  {
   "cell_type": "markdown",
   "id": "5eef0f6e",
   "metadata": {},
   "source": [
    "## Process the saccades"
   ]
  },
  {
   "cell_type": "code",
   "execution_count": 12,
   "id": "f00c6468",
   "metadata": {},
   "outputs": [],
   "source": [
    "# process the saccades\n",
    "# start, end, dur, startx, starty, endx, endy, ampl, peakveloc\n",
    "sacdata = np.zeros((len(saccades),9))\n",
    "for ii in range(len(saccades)):\n",
    "    row = saccades[ii]\n",
    "    # get rid of tabs\n",
    "    row = row.replace('\\t', ' ')\n",
    "    # make sure dims are stable\n",
    "    row_split = str.split(row, ' ')\n",
    "    row = [i for i in row_split if i != '']\n",
    "    assert len(row) == 11\n",
    "    # now get the data\n",
    "    row = row[2:] # drop strings at start\n",
    "    row[-1] = row[-1][:-1] # gets rid of new line marker\n",
    "    # convert to floats\n",
    "    for kk in range(len(row)):\n",
    "        try:\n",
    "            row[kk] = float(row[kk])\n",
    "        except:\n",
    "            # this seems to happen every once in a while, around drift check\n",
    "            if row[kk] == '.':\n",
    "                # replace with nan\n",
    "                row[kk] = np.nan\n",
    "            else:\n",
    "                raise NameError('UNUSUAL VALUE in Saccades')\n",
    "    sacdata[ii,:] = row\n"
   ]
  },
  {
   "cell_type": "markdown",
   "id": "aab4d352",
   "metadata": {},
   "source": [
    "## Process the blinks"
   ]
  },
  {
   "cell_type": "code",
   "execution_count": 13,
   "id": "6817e012",
   "metadata": {},
   "outputs": [],
   "source": [
    "# process the blinks\n",
    "blinkdata = np.zeros((len(blinks),2))\n",
    "for ii in range(len(blinks)):\n",
    "    row = blinks[ii]\n",
    "    # get rid of tabs\n",
    "    row = row.replace('\\t', ' ')\n",
    "    # get start and stop\n",
    "    row_split = str.split(row, ' ')\n",
    "    blinkdata[ii,:] = [int(row_split[2]),int(row_split[3])]"
   ]
  },
  {
   "cell_type": "markdown",
   "id": "c38e9b90",
   "metadata": {},
   "source": [
    "## Get some summary info:"
   ]
  },
  {
   "cell_type": "code",
   "execution_count": 14,
   "id": "30968d73",
   "metadata": {},
   "outputs": [
    {
     "name": "stdout",
     "output_type": "stream",
     "text": [
      "1233 fixations\n",
      "1175 saccades\n",
      "81 blinks in 86 trials\n"
     ]
    }
   ],
   "source": [
    "print('%s fixations' %np.shape(fixdata)[0])\n",
    "print('%s saccades' %np.shape(sacdata)[0])\n",
    "print('%s blinks in %s trials' %(np.shape(blinkdata)[0],len(stim)))"
   ]
  },
  {
   "cell_type": "markdown",
   "id": "8d40abe0",
   "metadata": {},
   "source": [
    "Now we have all of the data we need in the objects:\n",
    "- fixdata\n",
    "- sacdata\n",
    "- blinkdata\n",
    "- trigtime\n",
    "- code\n",
    "- stim"
   ]
  },
  {
   "cell_type": "markdown",
   "id": "312e2bf5",
   "metadata": {},
   "source": [
    "# Normally, this is run as one big function:"
   ]
  },
  {
   "cell_type": "code",
   "execution_count": 15,
   "id": "e600a966",
   "metadata": {},
   "outputs": [],
   "source": [
    "def process_asc_file(asc_path, relevant_trigs):\n",
    "    f = open(asc_path,'r')\n",
    "    lines = f.readlines()\n",
    "\n",
    "    fixations = [i for i in lines if i.startswith('EFIX')]\n",
    "    saccades = [i for i in lines if i.startswith('ESACC')]\n",
    "    # since recording only around trials, there are very few blinks comarped to\n",
    "    # saccades and fixations\n",
    "    blinks = [i for i in lines if i.startswith('EBLINK')]\n",
    "    # get the triggers\n",
    "    triggers = [i for i in lines if 'MEG Trigger' in i]\n",
    "    # get the stim for each trial\n",
    "    stim_tmp = [i for i in lines if 'IMGLOAD CENTER' in i]\n",
    "    # each image name is the last piece of the stim messages:\n",
    "    # split by slash then by space to get it\n",
    "    stim = [str.split(str.split(ii,'/')[-1],' ')[0] for ii in stim_tmp]\n",
    "\n",
    "    # process the triggers\n",
    "    trigtime, code = [],[]\n",
    "    for event in triggers:\n",
    "        itmp = int(str.split(event.replace('\\t', ' '),' ')[-1][0])\n",
    "        if itmp in relevant_trigs:\n",
    "            trigtime.append(int(str.split(event.replace('\\t', ' '),' ')[1]))\n",
    "            code.append(int(str.split(event.replace('\\t', ' '),' ')[-1][0]))\n",
    "\n",
    "    # process the fixations\n",
    "    # fix_start, fix_end, fix_dur, fx, fy, ps = [], [], [], [], [], []\n",
    "    fixdata = np.zeros((len(fixations),6))\n",
    "    for ii in range(len(fixations)):\n",
    "        row = fixations[ii]\n",
    "        # get rid of tabs\n",
    "        row = row.replace('\\t', ' ')\n",
    "        # check to make sure dimension are stable\n",
    "        row_split = str.split(row, ' ')\n",
    "        row = [i for i in row_split if i != '']\n",
    "        assert len(row) == 8\n",
    "        row = row[2:]\n",
    "        row[-1] = row[-1][:-1] # gets rid of new line marker\n",
    "        # convert to floats\n",
    "        for kk in range(len(row)):\n",
    "            row[kk] = float(row[kk])\n",
    "        fixdata[ii,:] = row\n",
    "\n",
    "    # process the saccades\n",
    "    # start, end, dur, startx, starty, endx, endy, ampl, peakveloc\n",
    "    sacdata = np.zeros((len(saccades),9))\n",
    "    for ii in range(len(saccades)):\n",
    "        row = saccades[ii]\n",
    "        # get rid of tabs\n",
    "        row = row.replace('\\t', ' ')\n",
    "        # make sure dims are stable\n",
    "        row_split = str.split(row, ' ')\n",
    "        row = [i for i in row_split if i != '']\n",
    "        assert len(row) == 11\n",
    "        # now get the data\n",
    "        row = row[2:] # drop strings at start\n",
    "        row[-1] = row[-1][:-1] # gets rid of new line marker\n",
    "        # convert to floats\n",
    "        for kk in range(len(row)):\n",
    "            try:\n",
    "                row[kk] = float(row[kk])\n",
    "            except:\n",
    "                # this seems to happen every once in a while, around drift check\n",
    "                if row[kk] == '.':\n",
    "                    # replace with nan\n",
    "                    row[kk] = np.nan\n",
    "                else:\n",
    "                    raise NameError('UNUSUAL VALUE in Saccades')\n",
    "        sacdata[ii,:] = row\n",
    "\n",
    "    # process the blinks\n",
    "    blinkdata = np.zeros((len(blinks),2))\n",
    "    for ii in range(len(blinks)):\n",
    "        row = blinks[ii]\n",
    "        # get rid of tabs\n",
    "        row = row.replace('\\t', ' ')\n",
    "        # get start and stop\n",
    "        row_split = str.split(row, ' ')\n",
    "        blinkdata[ii,:] = [int(row_split[2]),int(row_split[3])]\n",
    "\n",
    "    print('%s fixations' %np.shape(fixdata)[0])\n",
    "    print('%s saccades' %np.shape(sacdata)[0])\n",
    "    print('%s blinks in %s trials' %(np.shape(blinkdata)[0],len(stim)))\n",
    "\n",
    "    # return arrays\n",
    "    return fixdata, sacdata, blinkdata, trigtime, code, stim\n"
   ]
  },
  {
   "cell_type": "markdown",
   "id": "9f8fb2b6",
   "metadata": {},
   "source": [
    "# Run it"
   ]
  },
  {
   "cell_type": "code",
   "execution_count": 16,
   "id": "ccc7501f",
   "metadata": {},
   "outputs": [
    {
     "name": "stdout",
     "output_type": "stream",
     "text": [
      "1233 fixations\n",
      "1175 saccades\n",
      "81 blinks in 86 trials\n"
     ]
    }
   ],
   "source": [
    "asc_path = '/Volumes/Server/NEUROLING/Projects/NaturalReading/data/meg/%s/ET/%s_%s.asc' %(subject,subject,hh)\n",
    "relevant_trigs = [1,2,3]\n",
    "fixdata, sacdata, blinkdata, trigtime, code, stim = process_asc_file(asc_path, relevant_trigs)"
   ]
  },
  {
   "cell_type": "markdown",
   "id": "fbd6b1d5",
   "metadata": {},
   "source": [
    "# ----------- NOW PREPARE FOR THE MEG DATA -------------"
   ]
  },
  {
   "cell_type": "code",
   "execution_count": 17,
   "id": "f0db60f6",
   "metadata": {},
   "outputs": [],
   "source": [
    "meg_dir = '/Volumes/Server/NEUROLING/Projects/NaturalReading/data/meg/'\n",
    "megdir = meg_dir # for posterity\n",
    "\n",
    "subject = 'R1167'\n",
    "set = 'A1'\n",
    "ii = 1"
   ]
  },
  {
   "cell_type": "code",
   "execution_count": 18,
   "id": "7bc42f5e",
   "metadata": {},
   "outputs": [
    {
     "name": "stdout",
     "output_type": "stream",
     "text": [
      "Opening raw data file /Volumes/Server/NEUROLING/Projects/NaturalReading/data/meg/R1167/R1167_NaturalReading-1-clean_meg.fif...\n",
      "    Range : 0 ... 490000 =      0.000 ...   490.000 secs\n",
      "Ready.\n"
     ]
    }
   ],
   "source": [
    "# In this case I'm loading in data that has already been preprocessed\n",
    "raw = mne.io.read_raw_fif(megdir + subject + '/%s_NaturalReading-%s-clean_meg.fif' %(subject,ii))"
   ]
  },
  {
   "cell_type": "code",
   "execution_count": 20,
   "id": "0d4b9941",
   "metadata": {},
   "outputs": [
    {
     "name": "stdout",
     "output_type": "stream",
     "text": [
      "172 events found\n",
      "Event IDs: [  4   8  16  32  64 128]\n"
     ]
    },
    {
     "data": {
      "text/plain": [
       "Counter({128: 36, 64: 36, 32: 36, 16: 36, 8: 14, 4: 14})"
      ]
     },
     "execution_count": 20,
     "metadata": {},
     "output_type": "execute_result"
    }
   ],
   "source": [
    "# find events\n",
    "events = mne.find_events(raw)\n",
    "\n",
    "##### TRIGGER INFORMATION\n",
    "# Context Sentence, Pre send = 128\n",
    "# Context Sentence, Post send = 64\n",
    "# Target Sentence, Pre send = 32\n",
    "# Target Sentence, Post send = 16\n",
    "# Third Sentence, Pre send = 8\n",
    "# Third Sentence, Post send = 4\n",
    "\n",
    "from collections import Counter\n",
    "Counter(events[:,2])"
   ]
  },
  {
   "cell_type": "code",
   "execution_count": 21,
   "id": "4224dd5e",
   "metadata": {},
   "outputs": [],
   "source": [
    "## FOR NOW: Look at the context sentences\n",
    "events = events[events[:,2] == 64]"
   ]
  },
  {
   "cell_type": "code",
   "execution_count": 22,
   "id": "53da7260",
   "metadata": {},
   "outputs": [
    {
     "name": "stdout",
     "output_type": "stream",
     "text": [
      "1233 fixations\n",
      "1175 saccades\n",
      "81 blinks in 86 trials\n"
     ]
    }
   ],
   "source": [
    "#  load in the eyelink data for this subject\n",
    "asc_path = '/Volumes/Server/NEUROLING/Projects/NaturalReading/data/meg/%s/ET/%s_%s.asc' %(subject,subject,hh)\n",
    "\n",
    "# ignore the response screens\n",
    "relevant_trigs = [1,2,3]\n",
    "\n",
    "# assume that the ET data have been preprocessed:\n",
    "fixdata, sacdata, blinkdata, trigtime, code, stim = process_asc_file(asc_path, relevant_trigs)"
   ]
  },
  {
   "cell_type": "markdown",
   "id": "69ae4143",
   "metadata": {},
   "source": [
    "# Get the Trial Level Data"
   ]
  },
  {
   "cell_type": "markdown",
   "id": "8cfd5d63",
   "metadata": {},
   "source": [
    "So far, we have generated huge arrays that contain the fixation, saccades, and blinks for ALL the data. We want to break this into epochs, based on the timing of our triggers."
   ]
  },
  {
   "cell_type": "markdown",
   "id": "52cfc7ec",
   "metadata": {},
   "source": [
    "## Let's start with the very first trial"
   ]
  },
  {
   "cell_type": "code",
   "execution_count": 23,
   "id": "5eff6afb",
   "metadata": {},
   "outputs": [],
   "source": [
    "# We will turn this into a function below, so I'll list all of the args:\n",
    "tn = 1\n",
    "set = 'A1' # specific for my exp.\n",
    "Block = 1\n",
    "subject = 'R1167'\n",
    "fixdata = fixdata\n",
    "sacdata = sacdata\n",
    "blinkdata = blinkdata\n",
    "trigtime = trigtime\n",
    "code = code\n",
    "stim = stim\n",
    "sdir = '/Volumes/Server/NEUROLING/Projects/NaturalReading/'\n",
    "draw_saccades = False\n",
    "corrected = False"
   ]
  },
  {
   "cell_type": "code",
   "execution_count": 24,
   "id": "6579c6df",
   "metadata": {},
   "outputs": [],
   "source": [
    "# relevant fixations: start is 1st col, end is 2nd col\n",
    "fix_sub = fixdata[fixdata[:, 0] > trigtime[tn],:]\n",
    "# if its not the last trial, also sub by onset of the next one\n",
    "if tn != len(trigtime)-1:\n",
    "    fix_sub = fix_sub[fix_sub[:, 1] < trigtime[tn+1],:]"
   ]
  },
  {
   "cell_type": "code",
   "execution_count": 25,
   "id": "42335dc7",
   "metadata": {},
   "outputs": [],
   "source": [
    "# relevant saccades: start is 1st col, end is 2nd col\n",
    "sac_sub = sacdata[sacdata[:,0] > trigtime[tn],:]\n",
    "if tn != len(trigtime)-1:\n",
    "    sac_sub = sac_sub[sac_sub[:,1] < trigtime[tn+1],:]\n"
   ]
  },
  {
   "cell_type": "code",
   "execution_count": 26,
   "id": "9d44377a",
   "metadata": {},
   "outputs": [],
   "source": [
    "# relevant blinks\n",
    "blink_sub = blinkdata[blinkdata[:,0] > trigtime[tn],:]\n",
    "if tn != len(trigtime)-1:\n",
    "    blink_sub = blinkdata[blinkdata[:,1] < trigtime[tn+1],:]\n"
   ]
  },
  {
   "cell_type": "code",
   "execution_count": 27,
   "id": "f0bdcecc",
   "metadata": {},
   "outputs": [
    {
     "data": {
      "image/png": "[encoded data removed]",
      "text/plain": [
       "<PIL.BmpImagePlugin.BmpImageFile image mode=RGB size=1024x768 at 0x142534550>"
      ]
     },
     "metadata": {},
     "output_type": "display_data"
    }
   ],
   "source": [
    "# load the image for this trial\n",
    "img = Image.open(sdir + 'matlab/STIMULI/images/%s/%s' %(set,stim[tn][:-1]))\n",
    "myfont = ImageFont.truetype('Courier New',20)\n",
    "draw = ImageDraw.Draw(img)\n",
    "display(img)"
   ]
  },
  {
   "cell_type": "code",
   "execution_count": 28,
   "id": "726690ce",
   "metadata": {},
   "outputs": [],
   "source": [
    "# draw the fixations as numbered list\n",
    "for ii in range(len(fix_sub)):\n",
    "    # x pos, y pos, anchor (la = left ascender, lb = left baseline, mb = middle baseline\n",
    "    draw.text((fix_sub[ii,3], fix_sub[ii,4]), '%s' %ii, anchor='mb', font=myfont)\n",
    "    draw.ellipse(xy = [(fix_sub[ii,3]-5,fix_sub[ii,4]-5), (fix_sub[ii,3]+5,fix_sub[ii,4]+5)], outline='red')\n"
   ]
  },
  {
   "cell_type": "code",
   "execution_count": 29,
   "id": "6991e15e",
   "metadata": {},
   "outputs": [
    {
     "data": {
      "image/png": "[encoded data removed]",
      "text/plain": [
       "<PIL.BmpImagePlugin.BmpImageFile image mode=RGB size=1024x768 at 0x142534550>"
      ]
     },
     "metadata": {},
     "output_type": "display_data"
    }
   ],
   "source": [
    "display(img)"
   ]
  },
  {
   "cell_type": "code",
   "execution_count": null,
   "id": "fabd52ca",
   "metadata": {},
   "outputs": [],
   "source": [
    "# save it: fixations only\n",
    "# img.save(sdir + 'data/ET/%s/images/%s_wfix.png' %(subject,stim[tn][:-1]))"
   ]
  },
  {
   "cell_type": "markdown",
   "id": "b10c6749",
   "metadata": {},
   "source": [
    "This format isn't the most informative, so instead we can make a .gif to show sequence of fixations. Note, however, that the timing here doesn't reflect the actual duration of indiviual saccades. It only shows the order and position."
   ]
  },
  {
   "cell_type": "code",
   "execution_count": 30,
   "id": "a27e6255",
   "metadata": {},
   "outputs": [],
   "source": [
    "images = []\n",
    "for ii in range(len(fix_sub)):\n",
    "    # load in the image w.o. fixations on it\n",
    "    img = Image.open(sdir + 'matlab/STIMULI/images/%s/%s' %(set,stim[tn][:-1]))\n",
    "    myfont = ImageFont.truetype('Courier New',20)\n",
    "    # draw it\n",
    "    draw = ImageDraw.Draw(img)\n",
    "    # add a number indicating this fixation's position\n",
    "    draw.text((fix_sub[ii,3], fix_sub[ii,4]), '%s' %ii, anchor='mb', font=myfont)\n",
    "    # put an ellipse there as well to make it clearer\n",
    "    draw.ellipse(xy = [(fix_sub[ii,3]-5,fix_sub[ii,4]-5), (fix_sub[ii,3]+5,fix_sub[ii,4]+5)], outline='red')\n",
    "    # append the image to a list that we will make into a gif below\n",
    "    images.append(img)\n",
    "# save the list of images as a gif\n",
    "img.save(sdir + 'data/ET/%s/gifs/%s_%s.gif' %(subject,tn,stim[tn][:-1]), save_all=True, append_images = images,optimize=False,duration=400)"
   ]
  },
  {
   "cell_type": "markdown",
   "id": "ce876205",
   "metadata": {},
   "source": [
    "# Define the first fixations on each words (work in progress)"
   ]
  },
  {
   "cell_type": "code",
   "execution_count": 31,
   "id": "4c13c31a",
   "metadata": {},
   "outputs": [
    {
     "name": "stdout",
     "output_type": "stream",
     "text": [
      "{'0_Most': [120, 174.0, 275, 342], '1_of': [174.0, 210.0, 275, 342], '2_the': [210.0, 258.0, 275, 342], '3_time': [258.0, 318.0, 275, 342], '4_she': [318.0, 366.0, 275, 342], '5_burnt': [366.0, 438.0, 275, 342], '6_her': [438.0, 486.0, 275, 342], '7_meals': [486.0, 558.0, 275, 342], '8_and': [558.0, 606.0, 275, 342], '9_had': [606.0, 654.0, 275, 342], '10_to': [654.0, 690.0, 275, 342], '11_start': [690.0, 762.0, 275, 342], '12_over.': [762.0, 834.0, 275, 342]}\n"
     ]
    }
   ],
   "source": [
    "# load in the dictionary of bounding boxes for this trial's stimulus\n",
    "coords = json.load(open(sdir + 'matlab/STIMULI/coords/%s/%s_json' %(set,stim[tn][:-1]))) # need to use stim[tn] bc the order isn't the same\n",
    "print(coords)\n"
   ]
  },
  {
   "cell_type": "markdown",
   "id": "95912894",
   "metadata": {},
   "source": [
    "## MAIN LOOP OVER WORDS IN THE STIMULUS #\n",
    "This loop will go through each word, get its bounding box, then loop through each fixation to check if:\n",
    "1. The fixation is inside that word's bounding box\n",
    "2. That word has not yet been fixated\n",
    "3. There is no blink that occurs just (500 ms) before the fixation (grounds for exclusion)\n",
    "4. The previous fixation was to the left of the current one\n",
    "5. The previous fixation was within the y-bounds of hte line, not coming from way above or below\n",
    "IF all of these things are TRUE, the fixation gets counted in the dictinoary of first fixations"
   ]
  },
  {
   "cell_type": "code",
   "execution_count": 32,
   "id": "4f37f612",
   "metadata": {},
   "outputs": [],
   "source": [
    "# initialize a dictinoary that will be filled with the fixation data\n",
    "data_dict = {}\n",
    "\n",
    "# get first fixations on each word\n",
    "for word in coords.keys():\n",
    "\n",
    "    # get bounding box: x0,x1,y0,y1\n",
    "    bounding_box = coords[word]\n",
    "\n",
    "    # find fixations inside the box:\n",
    "    for ll in range(len(fix_sub)):\n",
    "        fixation = fix_sub[ll]\n",
    "\n",
    "        # want dim 3 and 4 for each fixatino: the avg x and y\n",
    "\n",
    "        # if the fixation is in the x-range:\n",
    "        if bounding_box[0] < fixation[3] < bounding_box[1]:\n",
    "\n",
    "            # if the fixation is in the y range:\n",
    "            if bounding_box[2] < fixation[4] < bounding_box[3]:\n",
    "\n",
    "                # check if there are any blinks immediately before or after it\n",
    "                # threshold is 500 ms right now\n",
    "                bthres = 500\n",
    "                if not np.any(np.abs(blinkdata[:,1] - fixation[0]) < bthres):\n",
    "\n",
    "                    #### NOTE: THIS ELIMINATES SECOND LINE FIXATIONS - FIX\n",
    "\n",
    "                    # now need to make sure its from a left exit:\n",
    "                    # if it's not hte first one:\n",
    "                    if ll != 0:\n",
    "                        prev_fix = fix_sub[ll-1]\n",
    "                        # make sure x pos of last is less than the current:\n",
    "                        if fixation[3] > prev_fix[3]:\n",
    "                            # and it's in the y-range for the line:\n",
    "                            if bounding_box[2] < prev_fix[4] < bounding_box[3]:\n",
    "\n",
    "                                # then, if this word is not in the dict already...\n",
    "                                if not word in data_dict:\n",
    "                                    # add it\n",
    "                                    tmp = list(fixation) # convert to list so json can save it\n",
    "                                    tmp.insert(0, ll) # add total fixation counter\n",
    "                                    data_dict[word] = tmp\n",
    "                    else:\n",
    "                        # first fixations on the sentnece can go past prev fix check\n",
    "                        # then, if this word is not in the dict already...\n",
    "                        if not word in data_dict:\n",
    "                            # add it\n",
    "                            tmp = list(fixation) # convert to list so json can save it\n",
    "                            tmp.insert(0, ll) # add total fixation counter\n",
    "                            data_dict[word] = tmp\n"
   ]
  },
  {
   "cell_type": "code",
   "execution_count": 33,
   "id": "e2d00675",
   "metadata": {},
   "outputs": [
    {
     "data": {
      "text/plain": [
       "{'0_Most': [14, 692576.0, 692881.0, 306.0, 171.5, 328.1, 1114.0],\n",
       " '2_the': [0, 687950.0, 688133.0, 184.0, 226.6, 298.1, 951.0],\n",
       " '4_she': [1, 688159.0, 688310.0, 152.0, 325.7, 297.4, 899.0],\n",
       " '5_burnt': [2, 688335.0, 688538.0, 204.0, 408.6, 309.3, 890.0],\n",
       " '7_meals': [3, 688335.0, 688915.0, 581.0, 507.3, 314.3, 860.0],\n",
       " '8_and': [4, 688948.0, 689099.0, 152.0, 573.5, 311.1, 816.0],\n",
       " '9_had': [5, 689129.0, 689323.0, 195.0, 637.1, 324.4, 836.0]}"
      ]
     },
     "execution_count": 33,
     "metadata": {},
     "output_type": "execute_result"
    }
   ],
   "source": [
    "data_dict"
   ]
  },
  {
   "cell_type": "code",
   "execution_count": 34,
   "id": "319a470d",
   "metadata": {},
   "outputs": [],
   "source": [
    "# Fill in unfixated words if there are any:\n",
    "for word in coords.keys():\n",
    "    if word not in data_dict:\n",
    "        data_dict[word] = 'NoFirstFix'\n",
    "        \n",
    "# and add an entry for the start time of the trial\n",
    "data_dict['__TrialStart'] = trigtime[tn]"
   ]
  },
  {
   "cell_type": "code",
   "execution_count": 35,
   "id": "6a3362aa",
   "metadata": {},
   "outputs": [
    {
     "data": {
      "text/plain": [
       "{'0_Most': [14, 692576.0, 692881.0, 306.0, 171.5, 328.1, 1114.0],\n",
       " '2_the': [0, 687950.0, 688133.0, 184.0, 226.6, 298.1, 951.0],\n",
       " '4_she': [1, 688159.0, 688310.0, 152.0, 325.7, 297.4, 899.0],\n",
       " '5_burnt': [2, 688335.0, 688538.0, 204.0, 408.6, 309.3, 890.0],\n",
       " '7_meals': [3, 688335.0, 688915.0, 581.0, 507.3, 314.3, 860.0],\n",
       " '8_and': [4, 688948.0, 689099.0, 152.0, 573.5, 311.1, 816.0],\n",
       " '9_had': [5, 689129.0, 689323.0, 195.0, 637.1, 324.4, 836.0],\n",
       " '1_of': 'NoFirstFix',\n",
       " '3_time': 'NoFirstFix',\n",
       " '6_her': 'NoFirstFix',\n",
       " '10_to': 'NoFirstFix',\n",
       " '11_start': 'NoFirstFix',\n",
       " '12_over.': 'NoFirstFix',\n",
       " '__TrialStart': 687605}"
      ]
     },
     "execution_count": 35,
     "metadata": {},
     "output_type": "execute_result"
    }
   ],
   "source": [
    "data_dict"
   ]
  },
  {
   "cell_type": "code",
   "execution_count": 36,
   "id": "8498baec",
   "metadata": {},
   "outputs": [],
   "source": [
    "# save the dictionary\n",
    "# fixation entries are: fix_start, fix_end, fix_dur, fx, fy, ps\n",
    "if not op.exists(sdir + 'data/ET/%s/json/Block%s/' %(subject,Block)):\n",
    "    os.makedirs(sdir + 'data/ET/%s/json/Block%s/' %(subject,Block))\n",
    "json.dump(data_dict, open(sdir+ 'data/ET/%s/json/Block%s/%s_FirstFix' %(subject, Block,stim[tn][:-1]), \"w\"))"
   ]
  },
  {
   "cell_type": "markdown",
   "id": "7294b2a0",
   "metadata": {},
   "source": [
    "# Make a Function that can do all this for us"
   ]
  },
  {
   "cell_type": "code",
   "execution_count": 40,
   "id": "68d9ebb4",
   "metadata": {},
   "outputs": [],
   "source": [
    "def process_trial(tn, set, Block, subject, fixdata, sacdata, blinkdata, trigtime, code, stim, sdir, draw_saccades = False, corrected = True):\n",
    "\n",
    "    # if ignore this part for now:\n",
    "    if not corrected:\n",
    "\n",
    "        # old code: get the arrays from the fixdata, rather than loading them\n",
    "\n",
    "        # relevant fixations: start is 1st col, end is 2nd col\n",
    "        fix_sub = fixdata[fixdata[:, 0] > trigtime[tn],:]\n",
    "        # if its not the last trial, also sub by onset of the next one\n",
    "        if tn != len(trigtime)-1:\n",
    "            fix_sub = fix_sub[fix_sub[:, 1] < trigtime[tn+1],:]\n",
    "\n",
    "        # relevant saccades: start is 1st col, end is 2nd col\n",
    "        sac_sub = sacdata[sacdata[:,0] > trigtime[tn],:]\n",
    "        if tn != len(trigtime)-1:\n",
    "            sac_sub = sac_sub[sac_sub[:,1] < trigtime[tn+1],:]\n",
    "\n",
    "        # relevant blinks\n",
    "        blink_sub = blinkdata[blinkdata[:,0] > trigtime[tn],:]\n",
    "        if tn != len(trigtime)-1:\n",
    "            blink_sub = blinkdata[blinkdata[:,1] < trigtime[tn+1],:]\n",
    "\n",
    "        # load the image for this trial\n",
    "        img = Image.open(sdir + 'matlab/STIMULI/images/%s/%s' %(set,stim[tn][:-1]))\n",
    "        myfont = ImageFont.truetype('Courier New',20)\n",
    "        draw = ImageDraw.Draw(img)\n",
    "\n",
    "        # draw the fixations as numbered list\n",
    "        for ii in range(len(fix_sub)):\n",
    "            # x pos, y pos, anchor (la = left ascender, lb = left baseline, mb = middle baseline\n",
    "            draw.text((fix_sub[ii,3], fix_sub[ii,4]), '%s' %ii, anchor='mb', font=myfont)\n",
    "            draw.ellipse(xy = [(fix_sub[ii,3]-5,fix_sub[ii,4]-5), (fix_sub[ii,3]+5,fix_sub[ii,4]+5)], outline='red')\n",
    "\n",
    "        # save it: fixations only\n",
    "        #img.save(sdir + 'data/ET/%s/images/%s_wfix.png' %(subject,stim[tn][:-1]))\n",
    "\n",
    "        if make_gif == True:\n",
    "            images = []\n",
    "            for ii in range(len(fix_sub)):\n",
    "                img = Image.open(sdir + 'matlab/STIMULI/images/%s/%s' %(set,stim[tn][:-1]))\n",
    "                myfont = ImageFont.truetype('Courier New',20)\n",
    "                draw = ImageDraw.Draw(img)\n",
    "                draw.text((fix_sub[ii,3], fix_sub[ii,4]), '%s' %ii, anchor='mb', font=myfont)\n",
    "                #draw.point((fix_sub[ii,3], fix_sub[ii,4]),'red')\n",
    "                draw.ellipse(xy = [(fix_sub[ii,3]-5,fix_sub[ii,4]-5), (fix_sub[ii,3]+5,fix_sub[ii,4]+5)], outline='red')\n",
    "                images.append(img)\n",
    "            img.save(sdir + 'data/ET/%s/gifs/%s_%s.gif' %(subject,tn,stim[tn][:-1]), save_all=True, append_images = images,optimize=False,duration=400)\n",
    "            # img.save('/Users/gf57/Desktop/out.gif', save_all=True, append_images = images,optimize=False,duration=400)\n",
    "\n",
    "        if draw_saccades == True:\n",
    "            # draw the saccades: red lines\n",
    "            for ii in range(len(sac_sub)):\n",
    "                draw.line([(int(sac_sub[ii,3]),int(sac_sub[ii,4])),(int(sac_sub[ii,5]),int(sac_sub[ii,6]))], fill='red', width = 0)\n",
    "\n",
    "            # save it: fixations ane saccades\n",
    "            subject = 'pilot'\n",
    "            img.save(sdir + 'data/ET/%s/images/%s_wfix_sac.png' %(subject,stim[tn][:-1]))\n",
    "\n",
    "    else:\n",
    "        fix_sub = np.load(sdir + 'data/ET/%s/arrays/Block%s/corrected/Fix_%s_cor.npy' %(subject,Block,stim[tn][:-1]))\n",
    "\n",
    "    # load in the dictionary of bounding boxes\n",
    "    coords = json.load(open(sdir + 'matlab/STIMULI/coords/%s/%s_json' %(set,stim[tn][:-1]))) # need to use stim[tn] bc the order isn't the same\n",
    "\n",
    "    data_dict = {}\n",
    "    #count = 0 # count of first fixations across all words in sentence\n",
    "    # get first fixations on each word\n",
    "    for word in coords.keys():\n",
    "        # get bounding box: x0,x1,y0,y1\n",
    "        bounding_box = coords[word]\n",
    "        # find fixations inside the box:\n",
    "        for ll in range(len(fix_sub)):\n",
    "            fixation = fix_sub[ll]\n",
    "            #print(ll, fixation)\n",
    "\n",
    "            # want dim 3 and 4 for each fixatino: the avg x and y\n",
    "\n",
    "            # if the fixation is in the x-range:\n",
    "            if bounding_box[0] < fixation[3] < bounding_box[1]:\n",
    "\n",
    "                # if the fixation is in the y range:\n",
    "                if bounding_box[2] < fixation[4] < bounding_box[3]:\n",
    "\n",
    "                    # check if there are any blinks immediately before or after it\n",
    "                    # threshold is 500 ms right now\n",
    "                    bthres = 500\n",
    "                    if not np.any(np.abs(blinkdata[:,1] - fixation[0]) < bthres):\n",
    "\n",
    "                        #### NOTE: THIS ELIMINATES SECOND LINE FIXATIONS - FIX\n",
    "\n",
    "                        # now need to make sure its from a left exit:\n",
    "                        # if it's not hte first one:\n",
    "                        if ll != 0:\n",
    "                            prev_fix = fix_sub[ll-1]\n",
    "                            # make sure x pos of last is less than the current:\n",
    "                            if fixation[3] > prev_fix[3]:\n",
    "                                # and it's in the y-range for the line:\n",
    "                                if bounding_box[2] < prev_fix[4] < bounding_box[3]:\n",
    "\n",
    "                                    # then, if this word is not in the dict already...\n",
    "                                    if not word in data_dict:\n",
    "                                        # add it\n",
    "                                        tmp = list(fixation) # convert to list so json can save it\n",
    "                                        #tmp.insert(0, count) # add count marker of 1st fixations\n",
    "                                        tmp.insert(0, ll) # add total fixation counter\n",
    "                                        data_dict[word] = tmp\n",
    "                                        #count += 1\n",
    "                        else:\n",
    "                            # first fixations on the sentnece can go past prev fix check\n",
    "                            # then, if this word is not in the dict already...\n",
    "                            if not word in data_dict:\n",
    "                                # add it\n",
    "                                tmp = list(fixation) # convert to list so json can save it\n",
    "                                #tmp.insert(0, count) # add count marker of 1st fixations - doesn't make sense if looping over word first\n",
    "                                tmp.insert(0, ll) # add total fixation counter\n",
    "                                data_dict[word] = tmp\n",
    "                                #count += 1\n",
    "\n",
    "\n",
    "    #fill in the unfixated words:\n",
    "    for word in coords.keys():\n",
    "        if word not in data_dict:\n",
    "            data_dict[word] = 'NoFirstFix'\n",
    "    # add trial start time\n",
    "    data_dict['__TrialStart'] = trigtime[tn]\n",
    "\n",
    "    # save the dictionary\n",
    "    # fixation entries are: fix_start, fix_end, fix_dur, fx, fy, ps\n",
    "    if not op.exists(sdir + 'data/ET/%s/json/Block%s/' %(subject,Block)):\n",
    "        os.makedirs(sdir + 'data/ET/%s/json/Block%s/' %(subject,Block))\n",
    "    json.dump(data_dict, open(sdir+ 'data/ET/%s/json/Block%s/%s_FirstFix' %(subject, Block,stim[tn][:-1]), \"w\"))\n",
    "\n",
    "    return data_dict"
   ]
  },
  {
   "cell_type": "markdown",
   "id": "d9c6f79a",
   "metadata": {},
   "source": [
    "# ------- NOW WE RETURN TO THE MEG DATA -------- "
   ]
  },
  {
   "cell_type": "code",
   "execution_count": 41,
   "id": "41d6aed4",
   "metadata": {},
   "outputs": [
    {
     "name": "stdout",
     "output_type": "stream",
     "text": [
      "[[38931     0    64]\n",
      " [50113     0    64]\n",
      " [60979     0    64]\n",
      " [72661     0    64]\n",
      " [82427     0    64]]\n",
      "36\n"
     ]
    }
   ],
   "source": [
    "# We have a list of events:\n",
    "print(events[:5,:])\n",
    "print(len(events))"
   ]
  },
  {
   "cell_type": "code",
   "execution_count": 42,
   "id": "99c1bbe4",
   "metadata": {},
   "outputs": [
    {
     "name": "stdout",
     "output_type": "stream",
     "text": [
      "1233 fixations\n",
      "1175 saccades\n",
      "81 blinks in 86 trials\n"
     ]
    }
   ],
   "source": [
    "#  load in the eyelink data for this subject\n",
    "asc_path = '/Volumes/Server/NEUROLING/Projects/NaturalReading/data/meg/%s/ET/%s_%s.asc' %(subject,subject,hh)\n",
    "\n",
    "# ignore the response screens\n",
    "relevant_trigs = [1,2,3]\n",
    "\n",
    "# assume that the ET data have been preprocessed:\n",
    "fixdata, sacdata, blinkdata, trigtime, code, stim = process_asc_file(asc_path, relevant_trigs)\n",
    "\n",
    "# get the trial level data\n",
    "trials =  []\n",
    "rel_stims = []\n",
    "Block = hh\n",
    "make_gif = True\n",
    "for tn in range(len(stim)):\n",
    "    if stim[tn].startswith('%s_C' %set):\n",
    "        trial_data =  process_trial(tn, set, Block, subject, fixdata, sacdata, blinkdata, trigtime, code, stim, sdir, draw_saccades = False, corrected = False)\n",
    "        trials.append(trial_data)\n",
    "        rel_stims.append(stim[tn])\n"
   ]
  },
  {
   "cell_type": "code",
   "execution_count": 43,
   "id": "35329205",
   "metadata": {},
   "outputs": [
    {
     "name": "stdout",
     "output_type": "stream",
     "text": [
      "36\n",
      "36\n"
     ]
    }
   ],
   "source": [
    "print(len(trials))\n",
    "print(len(events))"
   ]
  },
  {
   "cell_type": "code",
   "execution_count": 44,
   "id": "c3620816",
   "metadata": {},
   "outputs": [],
   "source": [
    "# make sure same number of trials and events\n",
    "if len(trials) != len(events):\n",
    "    # likely late start to MEG recording\n",
    "    diff = len(trials) - len(events)\n",
    "    trials = trials[diff:]\n",
    "assert len(trials) == len(events)"
   ]
  },
  {
   "cell_type": "code",
   "execution_count": 45,
   "id": "f33098f8",
   "metadata": {},
   "outputs": [],
   "source": [
    "## now we make the new events array\n",
    "new_events = []\n",
    "bads = []\n",
    "fixdurs = []\n",
    "for ee in range(len(events)):\n",
    "    event = events[ee]\n",
    "    startTime = event[0] #start time in MEG record\n",
    "    ET_trial = trials[ee]\n",
    "    etstrt = ET_trial['__TrialStart'] #start time in eyee tracker record\n",
    "    vals = list(ET_trial.values())\n",
    "    # now we loop through the first fixations to make new times\n",
    "    for vv in range(len(vals)-1):\n",
    "        # ignore last 1 bc its start time\n",
    "        if type(vals[vv]) == list: # if its a fixation list\n",
    "            from_start = vals[vv][1] - etstrt #get time from ET start signal\n",
    "            new_events.append([int(startTime + from_start)]) # add that to the MEG trigger time\n",
    "            fixdurs.append(vals[vv][3])\n",
    "    # check the identical times:\n",
    "    fixes = [val for val in vals if type(val) == list]\n",
    "    time_ii = [po[1] for po in fixes]\n",
    "    if not len(np.unique(time_ii)) == len(time_ii):\n",
    "        #print('Duplicate Event')\n",
    "        #print(trials[ee].keys())\n",
    "        #print(vals)\n",
    "        for ti in time_ii:\n",
    "            bads.append(1)\n",
    "    else:\n",
    "        for ti in time_ii:\n",
    "            bads.append(0)\n"
   ]
  },
  {
   "cell_type": "code",
   "execution_count": 46,
   "id": "11937e3f",
   "metadata": {},
   "outputs": [],
   "source": [
    "# THIS IS A WEIRD PROBLEM: For some reason, the .asc files have some fixations that have identical start times.\n",
    "# This makes those fixations pretty much unusable. It is actually quite problematic, affecting sometimes ~20% of total \n",
    "# fixations. I am meaning to contact SR Research about it. \n",
    "\n",
    "# remove the ones with duplicate fixation times: two liners and some glitches\n",
    "badsidx = np.invert(np.asarray(bads,dtype=bool))"
   ]
  },
  {
   "cell_type": "code",
   "execution_count": 47,
   "id": "2c32d8c5",
   "metadata": {},
   "outputs": [
    {
     "name": "stdout",
     "output_type": "stream",
     "text": [
      "45 out of 204 events removed: 0.22058823529411764 \n"
     ]
    }
   ],
   "source": [
    "tofill = np.zeros((len(new_events),3))\n",
    "for rr in range(len(tofill)):\n",
    "    row = tofill[rr,:]\n",
    "    row[0] = new_events[rr][0]\n",
    "    row[2] = 1\n",
    "\n",
    "new_events = tofill.astype(int)\n",
    "print('%s out of %s events removed: %s ' %(sum(bads),len(new_events),sum(bads)/len(new_events)))\n",
    "# remove bads\n",
    "new_events = new_events[badsidx]\n"
   ]
  },
  {
   "cell_type": "code",
   "execution_count": 48,
   "id": "17c5da80",
   "metadata": {},
   "outputs": [
    {
     "data": {
      "text/plain": [
       "159"
      ]
     },
     "execution_count": 48,
     "metadata": {},
     "output_type": "execute_result"
    }
   ],
   "source": [
    "len(new_events)"
   ]
  },
  {
   "cell_type": "markdown",
   "id": "86084c59",
   "metadata": {},
   "source": [
    "# MAKE EPOCHS"
   ]
  },
  {
   "cell_type": "code",
   "execution_count": 49,
   "id": "c2f3ed52",
   "metadata": {},
   "outputs": [
    {
     "name": "stdout",
     "output_type": "stream",
     "text": [
      "Not setting metadata\n",
      "Not setting metadata\n",
      "159 matching events found\n",
      "No baseline correction applied\n",
      "0 projection items activated\n"
     ]
    },
    {
     "name": "stderr",
     "output_type": "stream",
     "text": [
      "/var/folders/6p/bj_pqd055tb3cqszpgnvyd9m0000gr/T/ipykernel_85406/3681541989.py:2: RuntimeWarning: The events passed to the Epochs constructor are not chronologically ordered.\n",
      "  epochs = mne.Epochs(raw, new_events, event_id = dict(fix=1), tmin=-0.1, tmax=0.4, baseline=None, picks = picks, reject = None)\n"
     ]
    }
   ],
   "source": [
    "picks = mne.pick_types(raw.info, meg=True, eeg=False, stim=False)\n",
    "epochs = mne.Epochs(raw, new_events, event_id = dict(fix=1), tmin=-0.1, tmax=0.4, baseline=None, picks = picks, reject = None)\n",
    "# epochs.save(fname = megdir + subject + '/%s_Context-FirstFixations-%s-epo.fif' %(subject,hh),overwrite=overwrite)"
   ]
  },
  {
   "cell_type": "code",
   "execution_count": 50,
   "id": "9490720f",
   "metadata": {},
   "outputs": [
    {
     "data": {
      "image/png": "[encoded data removed]",
      "text/plain": [
       "<Figure size 460.8x216 with 2 Axes>"
      ]
     },
     "metadata": {
      "needs_background": "light"
     },
     "output_type": "display_data"
    }
   ],
   "source": [
    "avg = epochs.average()\n",
    "# look at it and save\n",
    "fig = avg.plot(picks=picks,spatial_colors=True,show=True)"
   ]
  }
 ],
 "metadata": {
  "kernelspec": {
   "display_name": "Python [conda env:mne]",
   "language": "python",
   "name": "conda-env-mne-py"
  },
  "language_info": {
   "codemirror_mode": {
    "name": "ipython",
    "version": 3
   },
   "file_extension": ".py",
   "mimetype": "text/x-python",
   "name": "python",
   "nbconvert_exporter": "python",
   "pygments_lexer": "ipython3",
   "version": "3.9.6"
  }
 },
 "nbformat": 4,
 "nbformat_minor": 5
}
