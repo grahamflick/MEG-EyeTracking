{
 "cells": [
  {
   "cell_type": "code",
   "execution_count": 35,
   "id": "4a03ba6c",
   "metadata": {},
   "outputs": [],
   "source": [
    "# Importing the PIL library\n",
    "from PIL import Image\n",
    "from PIL import ImageDraw\n",
    "from PIL import ImageFont\n",
    "# other things\n",
    "import pandas as pd\n",
    "import os\n",
    "import os.path as op\n",
    "import json\n",
    "import numpy as np"
   ]
  },
  {
   "cell_type": "code",
   "execution_count": 36,
   "id": "308107cf",
   "metadata": {},
   "outputs": [],
   "source": [
    "# set path\n",
    "sdir = '/Users/gf57/Dropbox/General/Projects/NaturalReading/Experiment/scripts/MethodsMeeting/'"
   ]
  },
  {
   "cell_type": "code",
   "execution_count": 74,
   "id": "708b257b",
   "metadata": {},
   "outputs": [],
   "source": [
    "### Primary function to make a single stimulus\n",
    "def make_stim_image(stim, row, col, sdir):\n",
    "    '''Takes text in a string, a row of a stimulus pd data frame, \n",
    "    and a column name, and saves three things as outputs:\n",
    "    1. The image of the text, to be used in the experiment.\n",
    "    2. The same image, but with bounding boxes displayed around each word.\n",
    "    3. A .json file containing a dictionary with the x and y coordinates that\n",
    "    define each word and its bounding box.\n",
    "    \n",
    "    Arguments:\n",
    "    stim: a string specifying the text to be put on this image\n",
    "    row: a row of pandas dataframe containing the string in stim\n",
    "    col: the name of the column in which the stimuli are found\n",
    "    sdir: the directory for the project\n",
    "    '''\n",
    "    \n",
    "    # make some directories if they don't exist\n",
    "    if not op.exists(sdir + 'STIMULI/images'):\n",
    "        os.makedirs(sdir + 'STIMULI/images')\n",
    "    if not op.exists(sdir + 'STIMULI/w_boxes'):\n",
    "        os.makedirs(sdir + 'STIMULI/w_boxes')\n",
    "    if not op.exists(sdir + 'STIMULI/coords'):\n",
    "        os.makedirs(sdir + 'STIMULI/coords')\n",
    "    \n",
    "    # get rid of extra spaces:\n",
    "    clear = 0\n",
    "    while clear == 0:\n",
    "        if stim[-1] == ' ':\n",
    "            stim = stim[:-1]\n",
    "        else:\n",
    "            clear = 1\n",
    "    # load in background\n",
    "    img = Image.open(sdir + 'Background.png')\n",
    "    # draw it\n",
    "    I1 = ImageDraw.Draw(img)\n",
    "    # set font size and width and height\n",
    "    myfont = ImageFont.truetype('Courier New', 20)\n",
    "    size = myfont.getsize(stim)\n",
    "    # Get width and height of background image: THESE MATCH THE PROJECTOR DISPLAY RESOLUTION\n",
    "    width, height = img.size\n",
    "\n",
    "    # get letter size in pixels: width of each letter\n",
    "    Lsize = size[0]/len(stim)\n",
    "\n",
    "    # find the middle\n",
    "    center = width/2\n",
    "    # find vertical center\n",
    "    v_center = height/2 - size[1]\n",
    "    # get width of whole item\n",
    "    item_length = size[0]\n",
    "    # figure out left position\n",
    "    offset_from_center = item_length/2\n",
    "    # set horizontal offset\n",
    "    horiz_start = center - offset_from_center\n",
    "    # insert stimulus into the image and save\n",
    "    I1.text((horiz_start, v_center), stim, font=myfont, fill = (255,255,255))\n",
    "    # save it\n",
    "    code = str(row['set_id']) + row['cond_id']\n",
    "    # use this to draw photodiode patch\n",
    "    I1.rectangle([(0,50),(50,0)],fill='white',outline='white')\n",
    "    img.save(sdir + 'STIMULI/images/%s' %(code), format='bmp')\n",
    "    ### NOW GET THE WORD POSITIONS AND SAVE THE BOUNDING BOXES ###\n",
    "    # split the stimulus into words\n",
    "    words = str.split(stim, ' ')\n",
    "    # get the positions of each word\n",
    "    sentence_dict = {}\n",
    "    for w in words:\n",
    "        if w != words[-1]:\n",
    "            w = w + ' '\n",
    "        # calculate word ssize\n",
    "        wsize = Lsize * len(w)\n",
    "\n",
    "        # define the starting x: left\n",
    "        if w == words[0]+ ' ':\n",
    "            word_x_start = horiz_start # if first word, it's the offset\n",
    "            word_x_start = word_x_start - Lsize*0.5\n",
    "            word_x_end = horiz_start + Lsize*len(w) - Lsize*0.5\n",
    "            next_word_x_start = word_x_end # + Lsize\n",
    "\n",
    "        elif w == words[-1]:\n",
    "            word_x_start = next_word_x_start\n",
    "            word_x_end = word_x_start + Lsize*len(w) + Lsize\n",
    "            #next_word_x_start = word_x_end #+ Lsize*0.5\n",
    "        else:\n",
    "            word_x_start = next_word_x_start\n",
    "            word_x_end = word_x_start + Lsize*len(w) #- Lsize #*Lsize*0.5\n",
    "            next_word_x_start = word_x_end #+ Lsize*0.5\n",
    "\n",
    "        # define the y bounds: line number\n",
    "        word_y_start = v_center #+ size[1] #* ll\n",
    "        word_y_end = v_center + size[1] #* (ll+1)\n",
    "\n",
    "        # FOR NOW: add some padding to the y range to capture vertical inaccuracy\n",
    "        word_y_start = word_y_start - 25\n",
    "        word_y_end = word_y_end + 25\n",
    "\n",
    "        # add to sentence dictionary\n",
    "        sentence_dict[w] = [word_x_start,word_x_end,word_y_start,word_y_end]\n",
    "        I1.rectangle([(word_x_start,word_y_start),(word_x_end,word_y_end)],fill=None,outline='white')\n",
    "    # save the iamge with bounding box\n",
    "    img.save(sdir + 'STIMULI/w_boxes/%s' %(code), format='bmp')\n",
    "    # save the dictionary as a json file\n",
    "    json.dump(sentence_dict, open(sdir+ 'STIMULI/coords/%s.json' %(code), \"w\"))\n"
   ]
  },
  {
   "cell_type": "markdown",
   "id": "c2d9026e",
   "metadata": {},
   "source": [
    "# Run the Function to Generate Images"
   ]
  },
  {
   "cell_type": "code",
   "execution_count": 52,
   "id": "2db15987",
   "metadata": {},
   "outputs": [],
   "source": [
    "# load stimuli\n",
    "stimuli = pd.read_csv(sdir + 'stim.csv')"
   ]
  },
  {
   "cell_type": "code",
   "execution_count": 53,
   "id": "6f61fde9",
   "metadata": {},
   "outputs": [
    {
     "data": {
      "text/html": [
       "<div>\n",
       "<style scoped>\n",
       "    .dataframe tbody tr th:only-of-type {\n",
       "        vertical-align: middle;\n",
       "    }\n",
       "\n",
       "    .dataframe tbody tr th {\n",
       "        vertical-align: top;\n",
       "    }\n",
       "\n",
       "    .dataframe thead th {\n",
       "        text-align: right;\n",
       "    }\n",
       "</style>\n",
       "<table border=\"1\" class=\"dataframe\">\n",
       "  <thead>\n",
       "    <tr style=\"text-align: right;\">\n",
       "      <th></th>\n",
       "      <th>set_id</th>\n",
       "      <th>cond_id</th>\n",
       "      <th>stim</th>\n",
       "      <th>cond</th>\n",
       "      <th>match</th>\n",
       "      <th>word1_mis</th>\n",
       "      <th>word2_mis</th>\n",
       "      <th>word3_mis</th>\n",
       "      <th>structure</th>\n",
       "      <th>meaning</th>\n",
       "      <th>n_word</th>\n",
       "      <th>n_char_stim</th>\n",
       "      <th>stim_word1</th>\n",
       "      <th>stim_word2</th>\n",
       "      <th>stim_word3</th>\n",
       "    </tr>\n",
       "  </thead>\n",
       "  <tbody>\n",
       "    <tr>\n",
       "      <th>0</th>\n",
       "      <td>1</td>\n",
       "      <td>a</td>\n",
       "      <td>students read books</td>\n",
       "      <td>svo</td>\n",
       "      <td>students read books</td>\n",
       "      <td>rodents read books</td>\n",
       "      <td>students rate books</td>\n",
       "      <td>students read beets</td>\n",
       "      <td>SVO</td>\n",
       "      <td>canonical</td>\n",
       "      <td>3.0</td>\n",
       "      <td>19</td>\n",
       "      <td>students</td>\n",
       "      <td>read</td>\n",
       "      <td>books</td>\n",
       "    </tr>\n",
       "    <tr>\n",
       "      <th>1</th>\n",
       "      <td>1</td>\n",
       "      <td>b</td>\n",
       "      <td>books read students</td>\n",
       "      <td>reversed</td>\n",
       "      <td>books read students</td>\n",
       "      <td>beets read students</td>\n",
       "      <td>books rate students</td>\n",
       "      <td>books read rodents</td>\n",
       "      <td>SVO</td>\n",
       "      <td>reversed</td>\n",
       "      <td>3.0</td>\n",
       "      <td>19</td>\n",
       "      <td>books</td>\n",
       "      <td>read</td>\n",
       "      <td>students</td>\n",
       "    </tr>\n",
       "    <tr>\n",
       "      <th>2</th>\n",
       "      <td>1</td>\n",
       "      <td>c</td>\n",
       "      <td>students reads books</td>\n",
       "      <td>agr_fw</td>\n",
       "      <td>students reads books</td>\n",
       "      <td>rodents reads books</td>\n",
       "      <td>students rates books</td>\n",
       "      <td>students reads beets</td>\n",
       "      <td>AgrErr</td>\n",
       "      <td>canonical</td>\n",
       "      <td>NaN</td>\n",
       "      <td>20</td>\n",
       "      <td>students</td>\n",
       "      <td>reads</td>\n",
       "      <td>books</td>\n",
       "    </tr>\n",
       "    <tr>\n",
       "      <th>3</th>\n",
       "      <td>1</td>\n",
       "      <td>d</td>\n",
       "      <td>books reads students</td>\n",
       "      <td>agr_rv</td>\n",
       "      <td>books reads students</td>\n",
       "      <td>beets reads students</td>\n",
       "      <td>books rates students</td>\n",
       "      <td>books reads rodents</td>\n",
       "      <td>AgrErr</td>\n",
       "      <td>reversed</td>\n",
       "      <td>NaN</td>\n",
       "      <td>20</td>\n",
       "      <td>books</td>\n",
       "      <td>reads</td>\n",
       "      <td>students</td>\n",
       "    </tr>\n",
       "    <tr>\n",
       "      <th>4</th>\n",
       "      <td>1</td>\n",
       "      <td>e</td>\n",
       "      <td>students books</td>\n",
       "      <td>list_fw</td>\n",
       "      <td>students books</td>\n",
       "      <td>rodents books</td>\n",
       "      <td>students beets</td>\n",
       "      <td>students books</td>\n",
       "      <td>NoVerbList</td>\n",
       "      <td>canonical</td>\n",
       "      <td>2.0</td>\n",
       "      <td>14</td>\n",
       "      <td>students</td>\n",
       "      <td>books</td>\n",
       "      <td>NaN</td>\n",
       "    </tr>\n",
       "  </tbody>\n",
       "</table>\n",
       "</div>"
      ],
      "text/plain": [
       "   set_id cond_id                  stim      cond                 match  \\\n",
       "0       1       a   students read books       svo   students read books   \n",
       "1       1       b   books read students  reversed   books read students   \n",
       "2       1       c  students reads books    agr_fw  students reads books   \n",
       "3       1       d  books reads students    agr_rv  books reads students   \n",
       "4       1       e        students books   list_fw        students books   \n",
       "\n",
       "              word1_mis             word2_mis             word3_mis  \\\n",
       "0    rodents read books   students rate books   students read beets   \n",
       "1   beets read students   books rate students    books read rodents   \n",
       "2   rodents reads books  students rates books  students reads beets   \n",
       "3  beets reads students  books rates students   books reads rodents   \n",
       "4         rodents books        students beets        students books   \n",
       "\n",
       "    structure    meaning  n_word  n_char_stim stim_word1 stim_word2 stim_word3  \n",
       "0         SVO  canonical     3.0           19   students       read      books  \n",
       "1         SVO   reversed     3.0           19      books       read   students  \n",
       "2      AgrErr  canonical     NaN           20   students      reads      books  \n",
       "3      AgrErr   reversed     NaN           20      books      reads   students  \n",
       "4  NoVerbList  canonical     2.0           14   students      books        NaN  "
      ]
     },
     "execution_count": 53,
     "metadata": {},
     "output_type": "execute_result"
    }
   ],
   "source": [
    "# take a look\n",
    "stimuli.head()"
   ]
  },
  {
   "cell_type": "markdown",
   "id": "bbdb0801",
   "metadata": {},
   "source": [
    "# Loop over the rows of the dataframe to make each image"
   ]
  },
  {
   "cell_type": "code",
   "execution_count": 54,
   "id": "aea052a4",
   "metadata": {},
   "outputs": [
    {
     "name": "stdout",
     "output_type": "stream",
     "text": [
      "Making images for stimulus: students read books\n",
      "Making images for stimulus: books read students\n",
      "Making images for stimulus: students reads books\n",
      "Making images for stimulus: books reads students\n",
      "Making images for stimulus: students books\n",
      "Making images for stimulus: books students\n",
      "Making images for stimulus: students read\n",
      "Making images for stimulus: books read\n",
      "Making images for stimulus: books students read\n",
      "Making images for stimulus: students books read\n"
     ]
    }
   ],
   "source": [
    "for idx, row in stimuli.iterrows():\n",
    "    \n",
    "    col = 'stim' # the name of the column in teh dataframe that contains the stim\n",
    "\n",
    "    stim = row[col] # the actual stimulus in this row\n",
    "    \n",
    "    # comment this out if desired:\n",
    "    print('Making images for stimulus: %s' %stim)\n",
    "    \n",
    "    # run the function\n",
    "    make_stim_image(stim, row, col, sdir)"
   ]
  },
  {
   "cell_type": "markdown",
   "id": "9dd6b302",
   "metadata": {},
   "source": [
    "# Load in images and a dictionary to see what it looks like"
   ]
  },
  {
   "cell_type": "code",
   "execution_count": 55,
   "id": "2fefac44",
   "metadata": {},
   "outputs": [
    {
     "data": {
      "image/png": "[encoded data removed]",
      "text/plain": [
       "<PIL.BmpImagePlugin.BmpImageFile image mode=RGB size=1024x768 at 0x13BA14E50>"
      ]
     },
     "metadata": {},
     "output_type": "display_data"
    }
   ],
   "source": [
    "img = Image.open(sdir + 'STIMULI/images/1a')\n",
    "I1 = ImageDraw.Draw(img)\n",
    "display(img)"
   ]
  },
  {
   "cell_type": "code",
   "execution_count": 56,
   "id": "29670620",
   "metadata": {},
   "outputs": [
    {
     "data": {
      "image/png": "[encoded data removed]",
      "text/plain": [
       "<PIL.BmpImagePlugin.BmpImageFile image mode=RGB size=1024x768 at 0x13B6460D0>"
      ]
     },
     "metadata": {},
     "output_type": "display_data"
    }
   ],
   "source": [
    "img = Image.open(sdir + 'STIMULI/w_boxes/1a')\n",
    "I1 = ImageDraw.Draw(img)\n",
    "display(img)"
   ]
  },
  {
   "cell_type": "code",
   "execution_count": 59,
   "id": "c1a63a01",
   "metadata": {},
   "outputs": [
    {
     "name": "stdout",
     "output_type": "stream",
     "text": [
      "{'students ': [392.0, 500.0, 342.0, 409.0], 'read ': [500.0, 560.0, 342.0, 409.0], 'books': [560.0, 632.0, 342.0, 409.0]}\n"
     ]
    }
   ],
   "source": [
    "# print out the dictionary\n",
    "coords = json.load(open(sdir + 'STIMULI/coords/1a.json'))\n",
    "# x0, x1, y0, y1\n",
    "print(coords)"
   ]
  },
  {
   "cell_type": "code",
   "execution_count": 70,
   "id": "23df7798",
   "metadata": {},
   "outputs": [
    {
     "name": "stdout",
     "output_type": "stream",
     "text": [
      "Bounding box for the first word:\n"
     ]
    },
    {
     "data": {
      "text/plain": [
       "[392.0, 500.0, 342.0, 409.0]"
      ]
     },
     "execution_count": 70,
     "metadata": {},
     "output_type": "execute_result"
    }
   ],
   "source": [
    "print('Bounding box for the first word:')\n",
    "coords[list(coords.keys())[0]]"
   ]
  }
 ],
 "metadata": {
  "kernelspec": {
   "display_name": "Python [conda env:mne]",
   "language": "python",
   "name": "conda-env-mne-py"
  },
  "language_info": {
   "codemirror_mode": {
    "name": "ipython",
    "version": 3
   },
   "file_extension": ".py",
   "mimetype": "text/x-python",
   "name": "python",
   "nbconvert_exporter": "python",
   "pygments_lexer": "ipython3",
   "version": "3.9.6"
  }
 },
 "nbformat": 4,
 "nbformat_minor": 5
}
